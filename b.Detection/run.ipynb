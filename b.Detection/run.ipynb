{
 "cells": [
  {
   "cell_type": "code",
   "execution_count": 1,
   "metadata": {},
   "outputs": [],
   "source": [
    "# 统计方法和不统计方法得到的模式实例数不同\n",
    "import dp_cypher_without_methods as dp\n",
    "# import dp_cypher_with_methods as dp"
   ]
  },
  {
   "cell_type": "code",
   "execution_count": 2,
   "metadata": {},
   "outputs": [],
   "source": [
    "import pandas as pd\n",
    "from py2neo import Graph"
   ]
  },
  {
   "cell_type": "code",
   "execution_count": 3,
   "metadata": {},
   "outputs": [],
   "source": [
    "# 一个数据集对应一个图数据库实例\n",
    "graph = Graph(\"bolt://localhost:7687\", auth=(\"neo4j\", \"88210599\"))"
   ]
  },
  {
   "cell_type": "code",
   "execution_count": 4,
   "metadata": {},
   "outputs": [],
   "source": [
    "# writer = pd.ExcelWriter(\"C://Users//15406//Desktop//py2neo//dpd//results//quickuml(with_methods).xlsx\")\n",
    "# writer = pd.ExcelWriter(\"C://Users//15406//Desktop//py2neo//dpd//results//quickuml(without_methods).xlsx\")\n",
    "# writer = pd.ExcelWriter(\"C://Users//15406//Desktop//py2neo//dpd//results//junit(with_methods).xlsx\")\n",
    "# writer = pd.ExcelWriter(\"C://Users//15406//Desktop//py2neo//dpd//results//junit(without_methods).xlsx\")\n",
    "# writer = pd.ExcelWriter(\"C://Users//15406//Desktop//py2neo//dpd//results//jhotdraw(with_methods).xlsx\")\n",
    "writer = pd.ExcelWriter(\"C://Users//15406//Desktop//py2neo//dpd//results//jhotdraw(without_methods).xlsx\")"
   ]
  },
  {
   "cell_type": "code",
   "execution_count": 5,
   "metadata": {},
   "outputs": [],
   "source": [
    "df=graph.run(dp.FactoryMethod).to_data_frame()"
   ]
  },
  {
   "cell_type": "code",
   "execution_count": 6,
   "metadata": {},
   "outputs": [],
   "source": [
    "df.to_excel(writer, sheet_name=\"FactoryMethod\", index=False)"
   ]
  },
  {
   "cell_type": "code",
   "execution_count": 7,
   "metadata": {},
   "outputs": [],
   "source": [
    "def run_cypher(name, cypher):\n",
    "    df = graph.run(cypher).to_data_frame()\n",
    "    if not df.empty:\n",
    "        df.to_excel(writer, sheet_name=name, index=False)"
   ]
  },
  {
   "cell_type": "code",
   "execution_count": null,
   "metadata": {},
   "outputs": [],
   "source": []
  },
  {
   "cell_type": "code",
   "execution_count": 8,
   "metadata": {},
   "outputs": [],
   "source": [
    "run_cypher(\"FactoryMethod\", dp.FactoryMethod)"
   ]
  },
  {
   "cell_type": "code",
   "execution_count": 9,
   "metadata": {},
   "outputs": [],
   "source": [
    "run_cypher(\"AbstractFactory\", dp.AbstractFactory)"
   ]
  },
  {
   "cell_type": "code",
   "execution_count": 10,
   "metadata": {},
   "outputs": [],
   "source": [
    "run_cypher(\"Builder\", dp.Builder)"
   ]
  },
  {
   "cell_type": "code",
   "execution_count": 11,
   "metadata": {},
   "outputs": [],
   "source": [
    "run_cypher(\"Prototype\", dp.Prototype)"
   ]
  },
  {
   "cell_type": "code",
   "execution_count": 12,
   "metadata": {},
   "outputs": [],
   "source": [
    "run_cypher(\"Singleton\", dp.Singleton)"
   ]
  },
  {
   "cell_type": "code",
   "execution_count": 13,
   "metadata": {},
   "outputs": [],
   "source": [
    "run_cypher(\"ClassAdapter\", dp.ClassAdapter)"
   ]
  },
  {
   "cell_type": "code",
   "execution_count": 14,
   "metadata": {},
   "outputs": [],
   "source": [
    "run_cypher(\"ObjectAdapter\", dp.ObjectAdapter)"
   ]
  },
  {
   "cell_type": "code",
   "execution_count": 15,
   "metadata": {},
   "outputs": [],
   "source": [
    "run_cypher(\"Bridge\", dp.Bridge)"
   ]
  },
  {
   "cell_type": "code",
   "execution_count": 16,
   "metadata": {},
   "outputs": [],
   "source": [
    "run_cypher(\"Composite\", dp.Composite)"
   ]
  },
  {
   "cell_type": "code",
   "execution_count": 17,
   "metadata": {},
   "outputs": [],
   "source": [
    "run_cypher(\"Decorator\", dp.Decorator)"
   ]
  },
  {
   "cell_type": "code",
   "execution_count": 18,
   "metadata": {},
   "outputs": [],
   "source": [
    "run_cypher(\"Flyweight\", dp.Flyweight)"
   ]
  },
  {
   "cell_type": "code",
   "execution_count": 19,
   "metadata": {},
   "outputs": [],
   "source": [
    "run_cypher(\"Proxy\", dp.Proxy)"
   ]
  },
  {
   "cell_type": "code",
   "execution_count": 20,
   "metadata": {},
   "outputs": [],
   "source": [
    "run_cypher(\"ChainOfResponsibility\", dp.ChainOfResponsibility)"
   ]
  },
  {
   "cell_type": "code",
   "execution_count": 21,
   "metadata": {},
   "outputs": [],
   "source": [
    "run_cypher(\"Command\", dp.Command)"
   ]
  },
  {
   "cell_type": "code",
   "execution_count": 22,
   "metadata": {},
   "outputs": [],
   "source": [
    "run_cypher(\"Iterator\", dp.Iterator)"
   ]
  },
  {
   "cell_type": "code",
   "execution_count": 23,
   "metadata": {},
   "outputs": [],
   "source": [
    "run_cypher(\"Mediator\", dp.Mediator)"
   ]
  },
  {
   "cell_type": "code",
   "execution_count": 24,
   "metadata": {},
   "outputs": [],
   "source": [
    "run_cypher(\"Memento\", dp.Memento)"
   ]
  },
  {
   "cell_type": "code",
   "execution_count": 25,
   "metadata": {},
   "outputs": [],
   "source": [
    "run_cypher(\"Observer\", dp.Observer)"
   ]
  },
  {
   "cell_type": "code",
   "execution_count": 26,
   "metadata": {},
   "outputs": [],
   "source": [
    "run_cypher(\"State\", dp.State)"
   ]
  },
  {
   "cell_type": "code",
   "execution_count": 27,
   "metadata": {},
   "outputs": [],
   "source": [
    "run_cypher(\"Strategy\", dp.Strategy)"
   ]
  },
  {
   "cell_type": "code",
   "execution_count": 28,
   "metadata": {},
   "outputs": [],
   "source": [
    "run_cypher(\"TemplateMethod\", dp.TemplateMethod)"
   ]
  },
  {
   "cell_type": "code",
   "execution_count": 29,
   "metadata": {},
   "outputs": [],
   "source": [
    "run_cypher(\"Visitor\", dp.Visitor)"
   ]
  },
  {
   "cell_type": "code",
   "execution_count": 30,
   "metadata": {},
   "outputs": [],
   "source": [
    "writer.save()\n",
    "writer.close()"
   ]
  }
 ],
 "metadata": {
  "kernelspec": {
   "display_name": "Python 3",
   "language": "python",
   "name": "python3"
  },
  "language_info": {
   "codemirror_mode": {
    "name": "ipython",
    "version": 3
   },
   "file_extension": ".py",
   "mimetype": "text/x-python",
   "name": "python",
   "nbconvert_exporter": "python",
   "pygments_lexer": "ipython3",
   "version": "3.7.6"
  }
 },
 "nbformat": 4,
 "nbformat_minor": 4
}
